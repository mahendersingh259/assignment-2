{
 "cells": [
  {
   "cell_type": "code",
   "execution_count": 19,
   "metadata": {
    "collapsed": true
   },
   "outputs": [],
   "source": [
    "%config IPCompleter.greedy=True\n",
    "#Task 1\n"
   ]
  },
  {
   "cell_type": "code",
   "execution_count": 74,
   "metadata": {},
   "outputs": [
    {
     "ename": "SyntaxError",
     "evalue": "invalid syntax (<ipython-input-74-1b5500e1ac3e>, line 15)",
     "output_type": "error",
     "traceback": [
      "\u001b[1;36m  File \u001b[1;32m\"<ipython-input-74-1b5500e1ac3e>\"\u001b[1;36m, line \u001b[1;32m15\u001b[0m\n\u001b[1;33m    def(a,b):\u001b[0m\n\u001b[1;37m       ^\u001b[0m\n\u001b[1;31mSyntaxError\u001b[0m\u001b[1;31m:\u001b[0m invalid syntax\n"
     ]
    }
   ],
   "source": [
    "#question 1.1\n",
    "    \n",
    "def myReduce(funname , b):\n",
    "    mylist= list()\n",
    "    str1=\"\"\n",
    "    for i in b:\n",
    "        mylist.append(funname(i))\n",
    "    for ele in mylist:\n",
    "            e=str(ele)\n",
    "            if e != 'None' :\n",
    "                str1 +=e\n",
    "    return str1\n",
    "\n",
    "lst =['sdfs','sdfsfsdf','sdf']\n",
    "def(a,b):\n",
    "    return a+b\n",
    "   \n",
    "myReduce(add , lst)   "
   ]
  },
  {
   "cell_type": "code",
   "execution_count": 56,
   "metadata": {},
   "outputs": [
    {
     "data": {
      "text/plain": [
       "[True, True, True, True]"
      ]
     },
     "execution_count": 56,
     "metadata": {},
     "output_type": "execute_result"
    }
   ],
   "source": [
    "#question 1.2\n",
    "\n",
    "    \n",
    "def myfilter(funname , b):\n",
    "    mylist= list()\n",
    "    for i in b:\n",
    "        if funname(i) ==True:\n",
    "            \n",
    "            mylist.append(funname(i))\n",
    "    \n",
    "    return mylist\n",
    "\n",
    "alphabets = ['a', 'b', 'd', 'e', 'i', 'j', 'o']\n",
    "# function that filters vowels\n",
    "def filterVowels(alphabet):\n",
    "    vowels = ['a', 'e', 'i', 'o', 'u']\n",
    "\n",
    "    if(alphabet in vowels):\n",
    "        return True\n",
    "    else:\n",
    "        return False\n",
    "myfilter(filterVowels , alphabets)   "
   ]
  },
  {
   "cell_type": "code",
   "execution_count": null,
   "metadata": {
    "collapsed": true
   },
   "outputs": [],
   "source": [
    "#question 2"
   ]
  },
  {
   "cell_type": "code",
   "execution_count": 2,
   "metadata": {},
   "outputs": [
    {
     "data": {
      "text/plain": [
       "['A', 'C', 'A', 'D', 'G', 'I', 'L', 'D']"
      ]
     },
     "execution_count": 2,
     "metadata": {},
     "output_type": "execute_result"
    }
   ],
   "source": [
    "[i for i in \"ACADGILD\"]"
   ]
  },
  {
   "cell_type": "code",
   "execution_count": 12,
   "metadata": {},
   "outputs": [
    {
     "name": "stdout",
     "output_type": "stream",
     "text": [
      "X\n",
      "Y\n",
      "Z\n",
      "['X', 'XX', 'XXX', 'XXXX', 'Y', 'YY', 'YYY', 'YYYY', 'Z', 'ZZ', 'ZZZ', 'ZZZZ']\n"
     ]
    }
   ],
   "source": [
    "p=list()\n",
    "for i in \"XYZ\":\n",
    "    k=1\n",
    "    while(k<5):\n",
    "        p.append(i*k)\n",
    "        k+=1\n",
    "print(p)\n",
    "        \n",
    "    "
   ]
  },
  {
   "cell_type": "code",
   "execution_count": 15,
   "metadata": {},
   "outputs": [
    {
     "name": "stdout",
     "output_type": "stream",
     "text": [
      "['X', 'Y', 'Z', 'XX', 'YY', 'ZZ', 'XXX', 'YYY', 'ZZZ', 'XXXX', 'YYYY', 'ZZZZ']\n"
     ]
    }
   ],
   "source": [
    "p=list()\n",
    "k=1\n",
    "while(k<5):\n",
    "    for i in \"XYZ\":\n",
    "        p.append(i*k)\n",
    "    k+=1\n",
    "print(p)\n",
    "        "
   ]
  },
  {
   "cell_type": "code",
   "execution_count": 15,
   "metadata": {},
   "outputs": [
    {
     "data": {
      "text/plain": [
       "[[2], [3], [4], [3], [4], [5], [4], [5], [6]]"
      ]
     },
     "execution_count": 15,
     "metadata": {},
     "output_type": "execute_result"
    }
   ],
   "source": [
    "inp=[2,3,4]\n",
    "temp = [] \n",
    "i=len(inp)\n",
    "j=0\n",
    "while(j<i):\n",
    "    \n",
    "    for elem in inp:\n",
    "            \n",
    "            temp.append([elem+j])\n",
    "        \n",
    "    j+=1\n",
    "temp"
   ]
  },
  {
   "cell_type": "code",
   "execution_count": 16,
   "metadata": {},
   "outputs": [
    {
     "data": {
      "text/plain": [
       "[[2, 3, 4, 5], [3, 4, 5, 6], [4, 5, 6, 7], [5, 6, 7, 8]]"
      ]
     },
     "execution_count": 16,
     "metadata": {},
     "output_type": "execute_result"
    }
   ],
   "source": [
    "\n",
    "inp=[2,3,4,5]\n",
    "temp = [] \n",
    "i=len(inp)\n",
    "j=0\n",
    "while(j<i):\n",
    "    temp1=list()\n",
    "    for elem in inp:\n",
    "            \n",
    "            temp1.append(elem+j)\n",
    "    temp.append(temp1)    \n",
    "    j+=1\n",
    "temp\n"
   ]
  },
  {
   "cell_type": "code",
   "execution_count": 2,
   "metadata": {},
   "outputs": [
    {
     "data": {
      "text/plain": [
       "[(1, 1), (2, 1), (3, 1), (1, 2), (2, 2), (3, 2), (1, 3), (2, 3), (3, 3)]"
      ]
     },
     "execution_count": 2,
     "metadata": {},
     "output_type": "execute_result"
    }
   ],
   "source": [
    "j=(1,1)\n",
    "temp=list()\n",
    "\n",
    "p=0\n",
    "k=len(j)\n",
    "while(p<=k):\n",
    "    i=0\n",
    "    while(i<=k):\n",
    "        \n",
    "        temp.append((j[0]+i,j[1]+p))\n",
    "        \n",
    "        i+=1\n",
    "    p+=1\n",
    "temp \n"
   ]
  },
  {
   "cell_type": "code",
   "execution_count": null,
   "metadata": {
    "collapsed": true
   },
   "outputs": [],
   "source": [
    "#question 3"
   ]
  },
  {
   "cell_type": "code",
   "execution_count": null,
   "metadata": {
    "collapsed": true
   },
   "outputs": [],
   "source": [
    "\n",
    "\n",
    "string=\" with Python.Sample Solution:- hello.sir \"\n",
    "\n",
    "def longest_word(wordslist):\n",
    "    \n",
    "    words = wordslist.split()\n",
    "    max_len = len(max(words, key=len))\n",
    "    return [word for word in words if len(word) == max_len]\n",
    "\n",
    "longest_word(string)\n",
    "\n",
    "\n",
    "\n",
    "    \n",
    "    \n"
   ]
  },
  {
   "cell_type": "code",
   "execution_count": 18,
   "metadata": {},
   "outputs": [
    {
     "name": "stdout",
     "output_type": "stream",
     "text": [
      "Enter side 1 : 8\n",
      "Enter side 2 : 8\n",
      "Enter side 3 : 8\n",
      "The area of the triangle is 27.71\n"
     ]
    }
   ],
   "source": [
    "#task 2\n",
    "#question 1\n",
    "class Polygon:\n",
    "    def __init__(self, no_of_sides):\n",
    "        self.n = no_of_sides\n",
    "    def inputSides(self):\n",
    "        self.sides = [float(input(\"Enter side \"+str(i+1)+\" : \")) for i in range(self.n)]\n",
    "class Triangle(Polygon):\n",
    "    def __init__(self):\n",
    "        Polygon.__init__(self,3)\n",
    "    def findArea(self):\n",
    "        a, b, c = self.sides\n",
    "        # calculate the semi-perimeter\n",
    "        s = (a + b + c) / 2\n",
    "        area = (s*(s-a)*(s-b)*(s-c)) ** 0.5\n",
    "        print('The area of the triangle is %0.2f' %area)\n",
    "obj= Triangle()\n",
    "obj.inputSides()\n",
    "obj.findArea()\n",
    "        "
   ]
  },
  {
   "cell_type": "code",
   "execution_count": 11,
   "metadata": {},
   "outputs": [],
   "source": []
  },
  {
   "cell_type": "code",
   "execution_count": null,
   "metadata": {},
   "outputs": [],
   "source": []
  },
  {
   "cell_type": "code",
   "execution_count": null,
   "metadata": {
    "collapsed": true
   },
   "outputs": [],
   "source": []
  },
  {
   "cell_type": "code",
   "execution_count": 62,
   "metadata": {},
   "outputs": [
    {
     "data": {
      "text/plain": [
       "['Python.Sample', 'Solution:-', 'hello.sir']"
      ]
     },
     "execution_count": 62,
     "metadata": {},
     "output_type": "execute_result"
    }
   ],
   "source": [
    "#question 1.2\n",
    "\n",
    "string=\" with Python.Sample Solution:- hello.sir a  b c \"\n",
    "\n",
    "def longest_word(wordslist,n):\n",
    "    \n",
    "    words = wordslist.split()\n",
    "   \n",
    "    return [word for word in words if len(word) > n]\n",
    "\n",
    "longest_word(string,6)"
   ]
  },
  {
   "cell_type": "code",
   "execution_count": 52,
   "metadata": {},
   "outputs": [
    {
     "data": {
      "text/plain": [
       "[2, 3, 4]"
      ]
     },
     "execution_count": 52,
     "metadata": {},
     "output_type": "execute_result"
    }
   ],
   "source": [
    "#question 2.1\n",
    "\n",
    "def listtonumber(l):\n",
    "    k=list()\n",
    "    for n in l:\n",
    "        k.append(len(n))\n",
    "    return k\n",
    "\n",
    "p=['ab','cde','erty']\n",
    "listtonumber(p)\n",
    "        "
   ]
  },
  {
   "cell_type": "code",
   "execution_count": 59,
   "metadata": {},
   "outputs": [
    {
     "data": {
      "text/plain": [
       "True"
      ]
     },
     "execution_count": 59,
     "metadata": {},
     "output_type": "execute_result"
    }
   ],
   "source": [
    "#question 2.2\n",
    "def vowcheck(a):\n",
    "    if(a=='a'or a=='e'or a=='o'or a=='i' or a=='u'):\n",
    "        return True\n",
    "    else:\n",
    "        return False\n",
    "\n",
    "vowcheck('a')"
   ]
  },
  {
   "cell_type": "code",
   "execution_count": null,
   "metadata": {
    "collapsed": true
   },
   "outputs": [],
   "source": []
  }
 ],
 "metadata": {
  "kernelspec": {
   "display_name": "Python 3",
   "language": "python",
   "name": "python3"
  },
  "language_info": {
   "codemirror_mode": {
    "name": "ipython",
    "version": 3
   },
   "file_extension": ".py",
   "mimetype": "text/x-python",
   "name": "python",
   "nbconvert_exporter": "python",
   "pygments_lexer": "ipython3",
   "version": "3.6.3"
  }
 },
 "nbformat": 4,
 "nbformat_minor": 2
}
